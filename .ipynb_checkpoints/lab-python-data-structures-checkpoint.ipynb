{
 "cells": [
  {
   "cell_type": "markdown",
   "metadata": {
    "tags": []
   },
   "source": [
    "# Lab | Data Structures "
   ]
  },
  {
   "cell_type": "markdown",
   "metadata": {},
   "source": [
    "## Exercise: Managing Customer Orders\n",
    "\n",
    "As part of a business venture, you are starting an online store that sells various products. To ensure smooth operations, you need to develop a program that manages customer orders and inventory.\n",
    "\n",
    "Follow the steps below to complete the exercise:\n",
    "\n",
    "1. Define a list called `products` that contains the following items: \"t-shirt\", \"mug\", \"hat\", \"book\", \"keychain\".\n",
    "\n",
    "2. Create an empty dictionary called `inventory`.\n",
    "\n",
    "3. Ask the user to input the quantity of each product available in the inventory. Use the product names from the `products` list as keys in the `inventory` dictionary and assign the respective quantities as values.\n",
    "\n",
    "4. Create an empty set called `customer_orders`.\n",
    "\n",
    "5. Ask the user to input the name of three products that a customer wants to order (from those in the products list, meaning three products out of \"t-shirt\", \"mug\", \"hat\", \"book\" or \"keychain\". Add each product name to the `customer_orders` set.\n",
    "\n",
    "6. Print the products in the `customer_orders` set.\n",
    "\n",
    "7. Calculate the following order statistics:\n",
    "   - Total Products Ordered: The total number of products in the `customer_orders` set.\n",
    "   - Percentage of Products Ordered: The percentage of products ordered compared to the total available products.\n",
    "   \n",
    "   Store these statistics in a tuple called `order_status`.\n",
    "\n",
    "8. Print the order statistics using the following format:\n",
    "   ```\n",
    "   Order Statistics:\n",
    "   Total Products Ordered: <total_products_ordered>\n",
    "   Percentage of Products Ordered: <percentage_ordered>% \n",
    "   ```\n",
    "\n",
    "9. Update the inventory by subtracting 1 from the quantity of each product. Modify the `inventory` dictionary accordingly.\n",
    "\n",
    "10. Print the updated inventory, displaying the quantity of each product on separate lines.\n",
    "\n",
    "Solve the exercise by implementing the steps using the Python concepts of lists, dictionaries, sets, and basic input/output operations. "
   ]
  },
  {
   "cell_type": "code",
   "execution_count": 377,
   "metadata": {},
   "outputs": [
    {
     "name": "stdin",
     "output_type": "stream",
     "text": [
      "Amount of t-shirt in inventory 5\n",
      "Amount of mug in inventory 5\n",
      "Amount of hat in inventory 5\n",
      "Amount of book in inventory 5\n",
      "Amount of keychain in inventory 5\n"
     ]
    }
   ],
   "source": [
    "products = [\"t-shirt\", \"mug\", \"hat\", \"book\", \"keychain\"] # List of products\n",
    "inventory = {}\n",
    "\n",
    "# asking user for input of inventory numbers\n",
    "\n",
    "inventory[\"t-shirt\"] = int(input(f\"Amount of {products[0]} in inventory\")) \n",
    "inventory[\"mug\"] = int(input(f\"Amount of {products[1]} in inventory\"))\n",
    "inventory[\"hat\"] = int(input(f\"Amount of {products[2]} in inventory\"))\n",
    "inventory[\"book\"] = int(input(f\"Amount of {products[3]} in inventory\"))\n",
    "inventory[\"keychain\"] = int(input(f\"Amount of {products[4]} in inventory\"))\n",
    "\n"
   ]
  },
  {
   "cell_type": "code",
   "execution_count": 367,
   "metadata": {},
   "outputs": [
    {
     "name": "stdin",
     "output_type": "stream",
     "text": [
      "Please let us know which product you would like to order (t-shirt, mug, hat, book, keychain):  mug\n",
      "Please let us know which product you would like to order (t-shirt, mug, hat, book, keychain):  book\n",
      "Please let us know which product you would like to order (t-shirt, mug, hat, book, keychain):  keychain\n"
     ]
    },
    {
     "name": "stdout",
     "output_type": "stream",
     "text": [
      "{'mug', 'keychain', 'book'}\n",
      "Total products ordered: 3\n"
     ]
    }
   ],
   "source": [
    "customer_orders = {}\n",
    "\n",
    "# asking for input of product bought by customer\n",
    "\n",
    "product_1 = input(\"Please let us know which product you would like to order (t-shirt, mug, hat, book, keychain): \")\n",
    "product_2 = input(\"Please let us know which product you would like to order (t-shirt, mug, hat, book, keychain): \")\n",
    "product_3 = input(\"Please let us know which product you would like to order (t-shirt, mug, hat, book, keychain): \")\n",
    "\n",
    "customer_orders = {product_1, product_2, product_3}\n",
    "\n",
    "print(customer_orders)\n",
    "print(\"Total products ordered: \" + str(len(customer_orders))) # returns number of orders products"
   ]
  },
  {
   "cell_type": "code",
   "execution_count": 381,
   "metadata": {},
   "outputs": [
    {
     "name": "stdout",
     "output_type": "stream",
     "text": [
      "Order Statistics: Total Products Ordered: \n",
      " Total Products Ordered: 3%  \n",
      " Percentage of Products Ordered: 12\n"
     ]
    }
   ],
   "source": [
    "total_items = sum(inventory.values()) # checks dict for values associated with keys (amount of products) and summarizes them\n",
    "\n",
    "percentage_order = len(customer_orders) / total_items * 100 # calculates percentage of current order of the overall inventory\n",
    "\n",
    "order_status = (len(customer_orders), percentage_order) # creates a tuple with amount of products ordered and percentage of current order of inventory\n",
    "\n",
    "print(f\"Order Statistics: Total Products Ordered: \\n Total Products Ordered: {len(customer_orders)}%  \\n Percentage of Products Ordered: {int(percentage_order)}\")\n",
    "\n"
   ]
  },
  {
   "cell_type": "code",
   "execution_count": 361,
   "metadata": {},
   "outputs": [
    {
     "name": "stdout",
     "output_type": "stream",
     "text": [
      "dict_items([('t-shirt', 5), ('mug', '3'), ('hat', 5), ('book', '3'), ('keychain', '3')])\n"
     ]
    }
   ],
   "source": [
    "# remove odered products from the inventory\n",
    "\n",
    "inventory[product_1] = str(int(inventory[product_1]) - 1) \n",
    "inventory[product_2] = str(int(inventory[product_2]) - 1)\n",
    "inventory[product_3] = str(int(inventory[product_3]) - 1)\n",
    "\n",
    "print(inventory.items())"
   ]
  },
  {
   "cell_type": "code",
   "execution_count": 363,
   "metadata": {},
   "outputs": [
    {
     "name": "stdout",
     "output_type": "stream",
     "text": [
      "t-shirt: 5\n",
      "mug: 3\n",
      "hat: 5\n",
      "book: 3\n",
      "keychain: 3\n"
     ]
    }
   ],
   "source": [
    "for key, value in inventory.items():\n",
    "    print(f\"{key}: {value}\")"
   ]
  }
 ],
 "metadata": {
  "kernelspec": {
   "display_name": "Python 3 (ipykernel)",
   "language": "python",
   "name": "python3"
  },
  "language_info": {
   "codemirror_mode": {
    "name": "ipython",
    "version": 3
   },
   "file_extension": ".py",
   "mimetype": "text/x-python",
   "name": "python",
   "nbconvert_exporter": "python",
   "pygments_lexer": "ipython3",
   "version": "3.12.4"
  }
 },
 "nbformat": 4,
 "nbformat_minor": 4
}
